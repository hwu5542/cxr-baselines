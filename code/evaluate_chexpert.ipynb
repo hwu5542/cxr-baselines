{
 "cells": [
  {
   "cell_type": "code",
   "execution_count": 1,
   "metadata": {},
   "outputs": [],
   "source": [
    "import sys\n",
    "import pandas as pd\n",
    "from pathlib import Path\n",
    "import os\n",
    "import random\n",
    "from time import gmtime, strftime\n",
    "\n",
    "chexpert_dir = '/scratch/wboag/2019/cxr/baselines_experiments/chexpert-labeler'\n",
    "if chexpert_dir not in sys.path:\n",
    "    sys.path.append(chexpert_dir)\n",
    "\n",
    "from loader import Loader\n",
    "from stages import Extractor, Classifier, Aggregator"
   ]
  },
  {
   "cell_type": "code",
   "execution_count": 2,
   "metadata": {},
   "outputs": [],
   "source": [
    "def mkpath(path_str, posix=True):\n",
    "    path = os.path.join(chexpert_dir, path_str)\n",
    "    if posix:\n",
    "        return Path(path)\n",
    "    else:\n",
    "        return path"
   ]
  },
  {
   "cell_type": "code",
   "execution_count": 3,
   "metadata": {},
   "outputs": [],
   "source": [
    "# Load reports\n",
    "df_knn = pd.read_csv('/scratch/wboag/2019/cxr/cxr-baselines_experiments/camera_ready/output/knn.tsv', sep='\\t')\n",
    "\n",
    "print(df_knn.shape)\n",
    "df_knn.head()"
   ]
  },
  {
   "cell_type": "code",
   "execution_count": 4,
   "metadata": {},
   "outputs": [
    {
     "name": "stdout",
     "output_type": "stream",
     "text": [
      "/tmp/chexpert-reports-220273.csv\n"
     ]
    }
   ],
   "source": [
    "# Write reports to temporary file\n",
    "tempname = '/tmp/chexpert-reports-%s.csv' % random.randint(0,10**6)\n",
    "print(tempname)\n",
    "with open(tempname, 'w') as f:\n",
    "    for text in df_knn.generated.values:\n",
    "        print(text.replace(',', '\\\\,'), file=f)"
   ]
  },
  {
   "cell_type": "code",
   "execution_count": null,
   "metadata": {},
   "outputs": [
    {
     "name": "stderr",
     "output_type": "stream",
     "text": [
      "/scratch/cxr-baselines/cxr-baselines/venv_cxr/lib/python3.5/site-packages/jpype/_core.py:210: UserWarning: \n",
      "-------------------------------------------------------------------------------\n",
      "Deprecated: convertStrings was not specified when starting the JVM. The default\n",
      "behavior in JPype will be False starting in JPype 0.8. The recommended setting\n",
      "for new code is convertStrings=False.  The legacy value of True was assumed for\n",
      "this session. If you are a user of an application that reported this warning,\n",
      "please file a ticket with the developer.\n",
      "-------------------------------------------------------------------------------\n",
      "\n",
      "  \"\"\")\n"
     ]
    }
   ],
   "source": [
    "extractor = Extractor(mkpath('phrases/mention'), mkpath('phrases/unmention'), False)\n",
    "classifier = Classifier(mkpath('patterns/pre_negation_uncertainty.txt', posix=False),\n",
    "                        mkpath('patterns/negation.txt'                , posix=False),\n",
    "                        mkpath('patterns/post_negation_uncertainty.txt', posix=False),\n",
    "                        verbose=True)\n",
    "\n",
    "CATEGORIES = [\"No Finding\", \"Enlarged Cardiomediastinum\", \"Cardiomegaly\",\n",
    "              \"Lung Lesion\", \"Lung Opacity\", \"Edema\", \"Consolidation\",\n",
    "              \"Pneumonia\", \"Atelectasis\", \"Pneumothorax\", \"Pleural Effusion\",\n",
    "              \"Pleural Other\", \"Fracture\", \"Support Devices\"]\n",
    "aggregator = Aggregator(CATEGORIES, False)"
   ]
  },
  {
   "cell_type": "code",
   "execution_count": null,
   "metadata": {},
   "outputs": [
    {
     "name": "stdout",
     "output_type": "stream",
     "text": [
      "2019-11-14 00:42:26\n"
     ]
    },
    {
     "name": "stderr",
     "output_type": "stream",
     "text": [
      "\r\n",
      "  0%|          | 0/99145 [00:00<?, ?it/s]"
     ]
    },
    {
     "name": "stdout",
     "output_type": "stream",
     "text": [
      "Classifying mentions...\n"
     ]
    },
    {
     "name": "stderr",
     "output_type": "stream",
     "text": [
      "/scratch/cxr-baselines/cxr-baselines/venv_cxr/lib/python3.5/site-packages/StanfordDependencies/JPypeBackend.py:160: UserWarning: This jar doesn't support universal dependencies, falling back to Stanford Dependencies. To suppress this message, call with universal=False\n",
      "  warnings.warn(\"This jar doesn't support universal \"\n",
      "  1%|          | 620/99145 [06:00<15:53:53,  1.72it/s]ERROR:root:Cannot process sentence 115 in 620\n",
      "Traceback (most recent call last):\n",
      "  File \"/scratch/cxr-baselines/cxr-baselines/venv_cxr/lib/python3.5/site-packages/negbio/pipeline/ptb2ud.py\", line 119, in convert_doc\n",
      "    has_lemmas=self.add_lemmas)\n",
      "  File \"/scratch/cxr-baselines/cxr-baselines/venv_cxr/lib/python3.5/site-packages/negbio/pipeline/ptb2ud.py\", line 207, in convert_dg\n",
      "    annotation_id_map[node.head]), 'governor'))\n",
      "KeyError: 8\n",
      "  1%|          | 1137/99145 [11:16<16:12:27,  1.68it/s]ERROR:root:Cannot process sentence 197 in 1137\n",
      "Traceback (most recent call last):\n",
      "  File \"/scratch/cxr-baselines/cxr-baselines/venv_cxr/lib/python3.5/site-packages/negbio/pipeline/ptb2ud.py\", line 119, in convert_doc\n",
      "    has_lemmas=self.add_lemmas)\n",
      "TypeError: 'NoneType' object is not iterable\n",
      "  1%|          | 1197/99145 [11:54<16:14:21,  1.68it/s]ERROR:root:Cannot process sentence 100 in 1197\n",
      "Traceback (most recent call last):\n",
      "  File \"/scratch/cxr-baselines/cxr-baselines/venv_cxr/lib/python3.5/site-packages/negbio/pipeline/ptb2ud.py\", line 119, in convert_doc\n",
      "    has_lemmas=self.add_lemmas)\n",
      "TypeError: 'NoneType' object is not iterable\n",
      "  1%|▏         | 1376/99145 [13:40<16:11:52,  1.68it/s]"
     ]
    }
   ],
   "source": [
    "print(strftime(\"%Y-%m-%d %H:%M:%S\", gmtime()))\n",
    "\n",
    "# Nearest Neighbor\n",
    "loader = Loader(tempname, False)\n",
    "\n",
    "# Load reports in place.\n",
    "loader.load()\n",
    "# Extract observation mentions in place.\n",
    "extractor.extract(loader.collection)\n",
    "# Classify mentions in place.\n",
    "classifier.classify(loader.collection)\n",
    "# Aggregate mentions to obtain one set of labels for each report.\n",
    "labels = aggregator.aggregate(loader.collection)\n",
    "\n",
    "print(labels.shape)\n",
    "print(labels[:5])\n",
    "\n",
    "print(strftime(\"%Y-%m-%d %H:%M:%S\", gmtime()))"
   ]
  },
  {
   "cell_type": "code",
   "execution_count": null,
   "metadata": {},
   "outputs": [],
   "source": [
    "os.remove(tempname)"
   ]
  },
  {
   "cell_type": "code",
   "execution_count": null,
   "metadata": {},
   "outputs": [],
   "source": []
  },
  {
   "cell_type": "code",
   "execution_count": null,
   "metadata": {},
   "outputs": [],
   "source": []
  },
  {
   "cell_type": "code",
   "execution_count": null,
   "metadata": {},
   "outputs": [],
   "source": []
  }
 ],
 "metadata": {
  "kernelspec": {
   "display_name": "Python 3",
   "language": "python",
   "name": "python3"
  }
 },
 "nbformat": 4,
 "nbformat_minor": 2
}
